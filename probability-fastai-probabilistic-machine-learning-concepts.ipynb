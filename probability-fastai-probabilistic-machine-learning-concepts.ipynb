{
 "cells": [
  {
   "cell_type": "markdown",
   "source": [
    "# Section 2 - Probabilistic machine learning\n",
    "Only concepts relevant to diffusion model.\n",
    "\n",
    "TODO:\n",
    "* MLE\n",
    "* ELBO\n",
    "* Variational inference\n",
    "* KL-divergence\n",
    "* Information theory\n",
    "* Bayesian inference\n",
    "* Bias-variance tradeoff\n",
    "* "
   ],
   "metadata": {
    "collapsed": false
   },
   "id": "b6b5daba9e5a7bbe"
  },
  {
   "cell_type": "code",
   "outputs": [],
   "source": [],
   "metadata": {
    "collapsed": false
   },
   "id": "f92175073951348d"
  }
 ],
 "metadata": {
  "kernelspec": {
   "display_name": "Python 3",
   "language": "python",
   "name": "python3"
  },
  "language_info": {
   "codemirror_mode": {
    "name": "ipython",
    "version": 2
   },
   "file_extension": ".py",
   "mimetype": "text/x-python",
   "name": "python",
   "nbconvert_exporter": "python",
   "pygments_lexer": "ipython2",
   "version": "2.7.6"
  }
 },
 "nbformat": 4,
 "nbformat_minor": 5
}
